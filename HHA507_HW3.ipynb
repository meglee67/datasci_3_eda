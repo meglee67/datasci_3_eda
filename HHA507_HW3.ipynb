{
  "nbformat": 4,
  "nbformat_minor": 0,
  "metadata": {
    "colab": {
      "provenance": [],
      "authorship_tag": "ABX9TyM4x5JCcKf1KPozbOnydJvc",
      "include_colab_link": true
    },
    "kernelspec": {
      "name": "python3",
      "display_name": "Python 3"
    },
    "language_info": {
      "name": "python"
    }
  },
  "cells": [
    {
      "cell_type": "markdown",
      "metadata": {
        "id": "view-in-github",
        "colab_type": "text"
      },
      "source": [
        "<a href=\"https://colab.research.google.com/github/meglee67/datasci_3_eda/blob/main/HHA507_HW3.ipynb\" target=\"_parent\"><img src=\"https://colab.research.google.com/assets/colab-badge.svg\" alt=\"Open In Colab\"/></a>"
      ]
    },
    {
      "cell_type": "code",
      "source": [
        "!pip install pandas_profiling"
      ],
      "metadata": {
        "colab": {
          "base_uri": "https://localhost:8080/"
        },
        "id": "O0bnBNj-ZYHP",
        "outputId": "742181dc-f818-4de7-dbcb-68aa25a0b4b6"
      },
      "execution_count": null,
      "outputs": [
        {
          "output_type": "stream",
          "name": "stdout",
          "text": [
            "Collecting pandas_profiling\n",
            "  Downloading pandas_profiling-3.6.6-py2.py3-none-any.whl (324 kB)\n",
            "\u001b[2K     \u001b[90m━━━━━━━━━━━━━━━━━━━━━━━━━━━━━━━━━━━━━━━\u001b[0m \u001b[32m324.4/324.4 kB\u001b[0m \u001b[31m3.4 MB/s\u001b[0m eta \u001b[36m0:00:00\u001b[0m\n",
            "\u001b[?25hCollecting ydata-profiling (from pandas_profiling)\n",
            "  Downloading ydata_profiling-4.5.1-py2.py3-none-any.whl (357 kB)\n",
            "\u001b[2K     \u001b[90m━━━━━━━━━━━━━━━━━━━━━━━━━━━━━━━━━━━━━━\u001b[0m \u001b[32m357.3/357.3 kB\u001b[0m \u001b[31m20.6 MB/s\u001b[0m eta \u001b[36m0:00:00\u001b[0m\n",
            "\u001b[?25hRequirement already satisfied: scipy<1.12,>=1.4.1 in /usr/local/lib/python3.10/dist-packages (from ydata-profiling->pandas_profiling) (1.11.2)\n",
            "Requirement already satisfied: pandas!=1.4.0,<2.1,>1.1 in /usr/local/lib/python3.10/dist-packages (from ydata-profiling->pandas_profiling) (1.5.3)\n",
            "Requirement already satisfied: matplotlib<4,>=3.2 in /usr/local/lib/python3.10/dist-packages (from ydata-profiling->pandas_profiling) (3.7.1)\n",
            "Requirement already satisfied: pydantic<2,>=1.8.1 in /usr/local/lib/python3.10/dist-packages (from ydata-profiling->pandas_profiling) (1.10.12)\n",
            "Requirement already satisfied: PyYAML<6.1,>=5.0.0 in /usr/local/lib/python3.10/dist-packages (from ydata-profiling->pandas_profiling) (6.0.1)\n",
            "Requirement already satisfied: jinja2<3.2,>=2.11.1 in /usr/local/lib/python3.10/dist-packages (from ydata-profiling->pandas_profiling) (3.1.2)\n",
            "Collecting visions[type_image_path]==0.7.5 (from ydata-profiling->pandas_profiling)\n",
            "  Downloading visions-0.7.5-py3-none-any.whl (102 kB)\n",
            "\u001b[2K     \u001b[90m━━━━━━━━━━━━━━━━━━━━━━━━━━━━━━━━━━━━━━━\u001b[0m \u001b[32m102.7/102.7 kB\u001b[0m \u001b[31m7.3 MB/s\u001b[0m eta \u001b[36m0:00:00\u001b[0m\n",
            "\u001b[?25hRequirement already satisfied: numpy<1.24,>=1.16.0 in /usr/local/lib/python3.10/dist-packages (from ydata-profiling->pandas_profiling) (1.23.5)\n",
            "Collecting htmlmin==0.1.12 (from ydata-profiling->pandas_profiling)\n",
            "  Downloading htmlmin-0.1.12.tar.gz (19 kB)\n",
            "  Preparing metadata (setup.py) ... \u001b[?25l\u001b[?25hdone\n",
            "Collecting phik<0.13,>=0.11.1 (from ydata-profiling->pandas_profiling)\n",
            "  Downloading phik-0.12.3-cp310-cp310-manylinux_2_17_x86_64.manylinux2014_x86_64.whl (679 kB)\n",
            "\u001b[2K     \u001b[90m━━━━━━━━━━━━━━━━━━━━━━━━━━━━━━━━━━━━━━\u001b[0m \u001b[32m679.5/679.5 kB\u001b[0m \u001b[31m39.3 MB/s\u001b[0m eta \u001b[36m0:00:00\u001b[0m\n",
            "\u001b[?25hRequirement already satisfied: requests<3,>=2.24.0 in /usr/local/lib/python3.10/dist-packages (from ydata-profiling->pandas_profiling) (2.31.0)\n",
            "Requirement already satisfied: tqdm<5,>=4.48.2 in /usr/local/lib/python3.10/dist-packages (from ydata-profiling->pandas_profiling) (4.66.1)\n",
            "Requirement already satisfied: seaborn<0.13,>=0.10.1 in /usr/local/lib/python3.10/dist-packages (from ydata-profiling->pandas_profiling) (0.12.2)\n",
            "Collecting multimethod<2,>=1.4 (from ydata-profiling->pandas_profiling)\n",
            "  Downloading multimethod-1.9.1-py3-none-any.whl (10 kB)\n",
            "Requirement already satisfied: statsmodels<1,>=0.13.2 in /usr/local/lib/python3.10/dist-packages (from ydata-profiling->pandas_profiling) (0.14.0)\n",
            "Collecting typeguard<3,>=2.13.2 (from ydata-profiling->pandas_profiling)\n",
            "  Downloading typeguard-2.13.3-py3-none-any.whl (17 kB)\n",
            "Collecting imagehash==4.3.1 (from ydata-profiling->pandas_profiling)\n",
            "  Downloading ImageHash-4.3.1-py2.py3-none-any.whl (296 kB)\n",
            "\u001b[2K     \u001b[90m━━━━━━━━━━━━━━━━━━━━━━━━━━━━━━━━━━━━━━\u001b[0m \u001b[32m296.5/296.5 kB\u001b[0m \u001b[31m24.6 MB/s\u001b[0m eta \u001b[36m0:00:00\u001b[0m\n",
            "\u001b[?25hRequirement already satisfied: wordcloud>=1.9.1 in /usr/local/lib/python3.10/dist-packages (from ydata-profiling->pandas_profiling) (1.9.2)\n",
            "Collecting dacite>=1.8 (from ydata-profiling->pandas_profiling)\n",
            "  Downloading dacite-1.8.1-py3-none-any.whl (14 kB)\n",
            "Requirement already satisfied: PyWavelets in /usr/local/lib/python3.10/dist-packages (from imagehash==4.3.1->ydata-profiling->pandas_profiling) (1.4.1)\n",
            "Requirement already satisfied: pillow in /usr/local/lib/python3.10/dist-packages (from imagehash==4.3.1->ydata-profiling->pandas_profiling) (9.4.0)\n",
            "Requirement already satisfied: attrs>=19.3.0 in /usr/local/lib/python3.10/dist-packages (from visions[type_image_path]==0.7.5->ydata-profiling->pandas_profiling) (23.1.0)\n",
            "Requirement already satisfied: networkx>=2.4 in /usr/local/lib/python3.10/dist-packages (from visions[type_image_path]==0.7.5->ydata-profiling->pandas_profiling) (3.1)\n",
            "Collecting tangled-up-in-unicode>=0.0.4 (from visions[type_image_path]==0.7.5->ydata-profiling->pandas_profiling)\n",
            "  Downloading tangled_up_in_unicode-0.2.0-py3-none-any.whl (4.7 MB)\n",
            "\u001b[2K     \u001b[90m━━━━━━━━━━━━━━━━━━━━━━━━━━━━━━━━━━━━━━━━\u001b[0m \u001b[32m4.7/4.7 MB\u001b[0m \u001b[31m69.3 MB/s\u001b[0m eta \u001b[36m0:00:00\u001b[0m\n",
            "\u001b[?25hRequirement already satisfied: MarkupSafe>=2.0 in /usr/local/lib/python3.10/dist-packages (from jinja2<3.2,>=2.11.1->ydata-profiling->pandas_profiling) (2.1.3)\n",
            "Requirement already satisfied: contourpy>=1.0.1 in /usr/local/lib/python3.10/dist-packages (from matplotlib<4,>=3.2->ydata-profiling->pandas_profiling) (1.1.0)\n",
            "Requirement already satisfied: cycler>=0.10 in /usr/local/lib/python3.10/dist-packages (from matplotlib<4,>=3.2->ydata-profiling->pandas_profiling) (0.11.0)\n",
            "Requirement already satisfied: fonttools>=4.22.0 in /usr/local/lib/python3.10/dist-packages (from matplotlib<4,>=3.2->ydata-profiling->pandas_profiling) (4.42.1)\n",
            "Requirement already satisfied: kiwisolver>=1.0.1 in /usr/local/lib/python3.10/dist-packages (from matplotlib<4,>=3.2->ydata-profiling->pandas_profiling) (1.4.5)\n",
            "Requirement already satisfied: packaging>=20.0 in /usr/local/lib/python3.10/dist-packages (from matplotlib<4,>=3.2->ydata-profiling->pandas_profiling) (23.1)\n",
            "Requirement already satisfied: pyparsing>=2.3.1 in /usr/local/lib/python3.10/dist-packages (from matplotlib<4,>=3.2->ydata-profiling->pandas_profiling) (3.1.1)\n",
            "Requirement already satisfied: python-dateutil>=2.7 in /usr/local/lib/python3.10/dist-packages (from matplotlib<4,>=3.2->ydata-profiling->pandas_profiling) (2.8.2)\n",
            "Requirement already satisfied: pytz>=2020.1 in /usr/local/lib/python3.10/dist-packages (from pandas!=1.4.0,<2.1,>1.1->ydata-profiling->pandas_profiling) (2023.3.post1)\n",
            "Requirement already satisfied: joblib>=0.14.1 in /usr/local/lib/python3.10/dist-packages (from phik<0.13,>=0.11.1->ydata-profiling->pandas_profiling) (1.3.2)\n",
            "Requirement already satisfied: typing-extensions>=4.2.0 in /usr/local/lib/python3.10/dist-packages (from pydantic<2,>=1.8.1->ydata-profiling->pandas_profiling) (4.5.0)\n",
            "Requirement already satisfied: charset-normalizer<4,>=2 in /usr/local/lib/python3.10/dist-packages (from requests<3,>=2.24.0->ydata-profiling->pandas_profiling) (3.2.0)\n",
            "Requirement already satisfied: idna<4,>=2.5 in /usr/local/lib/python3.10/dist-packages (from requests<3,>=2.24.0->ydata-profiling->pandas_profiling) (3.4)\n",
            "Requirement already satisfied: urllib3<3,>=1.21.1 in /usr/local/lib/python3.10/dist-packages (from requests<3,>=2.24.0->ydata-profiling->pandas_profiling) (2.0.4)\n",
            "Requirement already satisfied: certifi>=2017.4.17 in /usr/local/lib/python3.10/dist-packages (from requests<3,>=2.24.0->ydata-profiling->pandas_profiling) (2023.7.22)\n",
            "Requirement already satisfied: patsy>=0.5.2 in /usr/local/lib/python3.10/dist-packages (from statsmodels<1,>=0.13.2->ydata-profiling->pandas_profiling) (0.5.3)\n",
            "Requirement already satisfied: six in /usr/local/lib/python3.10/dist-packages (from patsy>=0.5.2->statsmodels<1,>=0.13.2->ydata-profiling->pandas_profiling) (1.16.0)\n",
            "Building wheels for collected packages: htmlmin\n",
            "  Building wheel for htmlmin (setup.py) ... \u001b[?25l\u001b[?25hdone\n",
            "  Created wheel for htmlmin: filename=htmlmin-0.1.12-py3-none-any.whl size=27081 sha256=75d6192ac7eafcf17c6e3cb7af5be26d928dbde74e5c383d184e583226359f0c\n",
            "  Stored in directory: /root/.cache/pip/wheels/dd/91/29/a79cecb328d01739e64017b6fb9a1ab9d8cb1853098ec5966d\n",
            "Successfully built htmlmin\n",
            "Installing collected packages: htmlmin, typeguard, tangled-up-in-unicode, multimethod, dacite, imagehash, visions, phik, ydata-profiling, pandas_profiling\n",
            "Successfully installed dacite-1.8.1 htmlmin-0.1.12 imagehash-4.3.1 multimethod-1.9.1 pandas_profiling-3.6.6 phik-0.12.3 tangled-up-in-unicode-0.2.0 typeguard-2.13.3 visions-0.7.5 ydata-profiling-4.5.1\n"
          ]
        }
      ]
    },
    {
      "cell_type": "code",
      "execution_count": null,
      "metadata": {
        "id": "NTJq2oqg_8cU"
      },
      "outputs": [],
      "source": [
        "import pandas as pd\n",
        "import numpy as np\n",
        "import seaborn as sns\n",
        "import matplotlib.pyplot as plt\n",
        "from pandas_profiling import ProfileReport\n",
        "from scipy.stats import pearsonr"
      ]
    },
    {
      "cell_type": "code",
      "source": [
        "df = pd.read_csv ('GamingandMentalHealth.csv')\n",
        "df"
      ],
      "metadata": {
        "colab": {
          "base_uri": "https://localhost:8080/",
          "height": 423
        },
        "id": "XeqnSinGbxLA",
        "outputId": "9895860b-dac3-4a99-f49b-3a83fd648cee"
      },
      "execution_count": null,
      "outputs": [
        {
          "output_type": "execute_result",
          "data": {
            "text/plain": [
              "    Sl. 0.  Age  Gender  Playing Hours  Productive Time  Feel After  \\\n",
              "0        1   11       0              2                3           1   \n",
              "1        2   15       0              1                1           2   \n",
              "2        3   16       0              3                1           3   \n",
              "3        4   10       1              4                2           3   \n",
              "4        5   14       0              2                3           1   \n",
              "..     ...  ...     ...            ...              ...         ...   \n",
              "89      90   23       1              3                2           3   \n",
              "90      91   21       0              3                2           3   \n",
              "91      92   17       1              1                2           2   \n",
              "92      93   19       1              1                2           1   \n",
              "93      94   20       0              5                0           3   \n",
              "\n",
              "    Mental Harm  \n",
              "0             0  \n",
              "1             0  \n",
              "2             1  \n",
              "3             1  \n",
              "4             0  \n",
              "..          ...  \n",
              "89            1  \n",
              "90            1  \n",
              "91            0  \n",
              "92            0  \n",
              "93            1  \n",
              "\n",
              "[94 rows x 7 columns]"
            ],
            "text/html": [
              "\n",
              "  <div id=\"df-0a3296d4-6869-45c9-9fcb-ca2c85f74451\" class=\"colab-df-container\">\n",
              "    <div>\n",
              "<style scoped>\n",
              "    .dataframe tbody tr th:only-of-type {\n",
              "        vertical-align: middle;\n",
              "    }\n",
              "\n",
              "    .dataframe tbody tr th {\n",
              "        vertical-align: top;\n",
              "    }\n",
              "\n",
              "    .dataframe thead th {\n",
              "        text-align: right;\n",
              "    }\n",
              "</style>\n",
              "<table border=\"1\" class=\"dataframe\">\n",
              "  <thead>\n",
              "    <tr style=\"text-align: right;\">\n",
              "      <th></th>\n",
              "      <th>Sl. 0.</th>\n",
              "      <th>Age</th>\n",
              "      <th>Gender</th>\n",
              "      <th>Playing Hours</th>\n",
              "      <th>Productive Time</th>\n",
              "      <th>Feel After</th>\n",
              "      <th>Mental Harm</th>\n",
              "    </tr>\n",
              "  </thead>\n",
              "  <tbody>\n",
              "    <tr>\n",
              "      <th>0</th>\n",
              "      <td>1</td>\n",
              "      <td>11</td>\n",
              "      <td>0</td>\n",
              "      <td>2</td>\n",
              "      <td>3</td>\n",
              "      <td>1</td>\n",
              "      <td>0</td>\n",
              "    </tr>\n",
              "    <tr>\n",
              "      <th>1</th>\n",
              "      <td>2</td>\n",
              "      <td>15</td>\n",
              "      <td>0</td>\n",
              "      <td>1</td>\n",
              "      <td>1</td>\n",
              "      <td>2</td>\n",
              "      <td>0</td>\n",
              "    </tr>\n",
              "    <tr>\n",
              "      <th>2</th>\n",
              "      <td>3</td>\n",
              "      <td>16</td>\n",
              "      <td>0</td>\n",
              "      <td>3</td>\n",
              "      <td>1</td>\n",
              "      <td>3</td>\n",
              "      <td>1</td>\n",
              "    </tr>\n",
              "    <tr>\n",
              "      <th>3</th>\n",
              "      <td>4</td>\n",
              "      <td>10</td>\n",
              "      <td>1</td>\n",
              "      <td>4</td>\n",
              "      <td>2</td>\n",
              "      <td>3</td>\n",
              "      <td>1</td>\n",
              "    </tr>\n",
              "    <tr>\n",
              "      <th>4</th>\n",
              "      <td>5</td>\n",
              "      <td>14</td>\n",
              "      <td>0</td>\n",
              "      <td>2</td>\n",
              "      <td>3</td>\n",
              "      <td>1</td>\n",
              "      <td>0</td>\n",
              "    </tr>\n",
              "    <tr>\n",
              "      <th>...</th>\n",
              "      <td>...</td>\n",
              "      <td>...</td>\n",
              "      <td>...</td>\n",
              "      <td>...</td>\n",
              "      <td>...</td>\n",
              "      <td>...</td>\n",
              "      <td>...</td>\n",
              "    </tr>\n",
              "    <tr>\n",
              "      <th>89</th>\n",
              "      <td>90</td>\n",
              "      <td>23</td>\n",
              "      <td>1</td>\n",
              "      <td>3</td>\n",
              "      <td>2</td>\n",
              "      <td>3</td>\n",
              "      <td>1</td>\n",
              "    </tr>\n",
              "    <tr>\n",
              "      <th>90</th>\n",
              "      <td>91</td>\n",
              "      <td>21</td>\n",
              "      <td>0</td>\n",
              "      <td>3</td>\n",
              "      <td>2</td>\n",
              "      <td>3</td>\n",
              "      <td>1</td>\n",
              "    </tr>\n",
              "    <tr>\n",
              "      <th>91</th>\n",
              "      <td>92</td>\n",
              "      <td>17</td>\n",
              "      <td>1</td>\n",
              "      <td>1</td>\n",
              "      <td>2</td>\n",
              "      <td>2</td>\n",
              "      <td>0</td>\n",
              "    </tr>\n",
              "    <tr>\n",
              "      <th>92</th>\n",
              "      <td>93</td>\n",
              "      <td>19</td>\n",
              "      <td>1</td>\n",
              "      <td>1</td>\n",
              "      <td>2</td>\n",
              "      <td>1</td>\n",
              "      <td>0</td>\n",
              "    </tr>\n",
              "    <tr>\n",
              "      <th>93</th>\n",
              "      <td>94</td>\n",
              "      <td>20</td>\n",
              "      <td>0</td>\n",
              "      <td>5</td>\n",
              "      <td>0</td>\n",
              "      <td>3</td>\n",
              "      <td>1</td>\n",
              "    </tr>\n",
              "  </tbody>\n",
              "</table>\n",
              "<p>94 rows × 7 columns</p>\n",
              "</div>\n",
              "    <div class=\"colab-df-buttons\">\n",
              "\n",
              "  <div class=\"colab-df-container\">\n",
              "    <button class=\"colab-df-convert\" onclick=\"convertToInteractive('df-0a3296d4-6869-45c9-9fcb-ca2c85f74451')\"\n",
              "            title=\"Convert this dataframe to an interactive table.\"\n",
              "            style=\"display:none;\">\n",
              "\n",
              "  <svg xmlns=\"http://www.w3.org/2000/svg\" height=\"24px\" viewBox=\"0 -960 960 960\">\n",
              "    <path d=\"M120-120v-720h720v720H120Zm60-500h600v-160H180v160Zm220 220h160v-160H400v160Zm0 220h160v-160H400v160ZM180-400h160v-160H180v160Zm440 0h160v-160H620v160ZM180-180h160v-160H180v160Zm440 0h160v-160H620v160Z\"/>\n",
              "  </svg>\n",
              "    </button>\n",
              "\n",
              "  <style>\n",
              "    .colab-df-container {\n",
              "      display:flex;\n",
              "      gap: 12px;\n",
              "    }\n",
              "\n",
              "    .colab-df-convert {\n",
              "      background-color: #E8F0FE;\n",
              "      border: none;\n",
              "      border-radius: 50%;\n",
              "      cursor: pointer;\n",
              "      display: none;\n",
              "      fill: #1967D2;\n",
              "      height: 32px;\n",
              "      padding: 0 0 0 0;\n",
              "      width: 32px;\n",
              "    }\n",
              "\n",
              "    .colab-df-convert:hover {\n",
              "      background-color: #E2EBFA;\n",
              "      box-shadow: 0px 1px 2px rgba(60, 64, 67, 0.3), 0px 1px 3px 1px rgba(60, 64, 67, 0.15);\n",
              "      fill: #174EA6;\n",
              "    }\n",
              "\n",
              "    .colab-df-buttons div {\n",
              "      margin-bottom: 4px;\n",
              "    }\n",
              "\n",
              "    [theme=dark] .colab-df-convert {\n",
              "      background-color: #3B4455;\n",
              "      fill: #D2E3FC;\n",
              "    }\n",
              "\n",
              "    [theme=dark] .colab-df-convert:hover {\n",
              "      background-color: #434B5C;\n",
              "      box-shadow: 0px 1px 3px 1px rgba(0, 0, 0, 0.15);\n",
              "      filter: drop-shadow(0px 1px 2px rgba(0, 0, 0, 0.3));\n",
              "      fill: #FFFFFF;\n",
              "    }\n",
              "  </style>\n",
              "\n",
              "    <script>\n",
              "      const buttonEl =\n",
              "        document.querySelector('#df-0a3296d4-6869-45c9-9fcb-ca2c85f74451 button.colab-df-convert');\n",
              "      buttonEl.style.display =\n",
              "        google.colab.kernel.accessAllowed ? 'block' : 'none';\n",
              "\n",
              "      async function convertToInteractive(key) {\n",
              "        const element = document.querySelector('#df-0a3296d4-6869-45c9-9fcb-ca2c85f74451');\n",
              "        const dataTable =\n",
              "          await google.colab.kernel.invokeFunction('convertToInteractive',\n",
              "                                                    [key], {});\n",
              "        if (!dataTable) return;\n",
              "\n",
              "        const docLinkHtml = 'Like what you see? Visit the ' +\n",
              "          '<a target=\"_blank\" href=https://colab.research.google.com/notebooks/data_table.ipynb>data table notebook</a>'\n",
              "          + ' to learn more about interactive tables.';\n",
              "        element.innerHTML = '';\n",
              "        dataTable['output_type'] = 'display_data';\n",
              "        await google.colab.output.renderOutput(dataTable, element);\n",
              "        const docLink = document.createElement('div');\n",
              "        docLink.innerHTML = docLinkHtml;\n",
              "        element.appendChild(docLink);\n",
              "      }\n",
              "    </script>\n",
              "  </div>\n",
              "\n",
              "\n",
              "<div id=\"df-2484a0d7-79ac-489a-b0a9-5db7f7ef344c\">\n",
              "  <button class=\"colab-df-quickchart\" onclick=\"quickchart('df-2484a0d7-79ac-489a-b0a9-5db7f7ef344c')\"\n",
              "            title=\"Suggest charts.\"\n",
              "            style=\"display:none;\">\n",
              "\n",
              "<svg xmlns=\"http://www.w3.org/2000/svg\" height=\"24px\"viewBox=\"0 0 24 24\"\n",
              "     width=\"24px\">\n",
              "    <g>\n",
              "        <path d=\"M19 3H5c-1.1 0-2 .9-2 2v14c0 1.1.9 2 2 2h14c1.1 0 2-.9 2-2V5c0-1.1-.9-2-2-2zM9 17H7v-7h2v7zm4 0h-2V7h2v10zm4 0h-2v-4h2v4z\"/>\n",
              "    </g>\n",
              "</svg>\n",
              "  </button>\n",
              "\n",
              "<style>\n",
              "  .colab-df-quickchart {\n",
              "      --bg-color: #E8F0FE;\n",
              "      --fill-color: #1967D2;\n",
              "      --hover-bg-color: #E2EBFA;\n",
              "      --hover-fill-color: #174EA6;\n",
              "      --disabled-fill-color: #AAA;\n",
              "      --disabled-bg-color: #DDD;\n",
              "  }\n",
              "\n",
              "  [theme=dark] .colab-df-quickchart {\n",
              "      --bg-color: #3B4455;\n",
              "      --fill-color: #D2E3FC;\n",
              "      --hover-bg-color: #434B5C;\n",
              "      --hover-fill-color: #FFFFFF;\n",
              "      --disabled-bg-color: #3B4455;\n",
              "      --disabled-fill-color: #666;\n",
              "  }\n",
              "\n",
              "  .colab-df-quickchart {\n",
              "    background-color: var(--bg-color);\n",
              "    border: none;\n",
              "    border-radius: 50%;\n",
              "    cursor: pointer;\n",
              "    display: none;\n",
              "    fill: var(--fill-color);\n",
              "    height: 32px;\n",
              "    padding: 0;\n",
              "    width: 32px;\n",
              "  }\n",
              "\n",
              "  .colab-df-quickchart:hover {\n",
              "    background-color: var(--hover-bg-color);\n",
              "    box-shadow: 0 1px 2px rgba(60, 64, 67, 0.3), 0 1px 3px 1px rgba(60, 64, 67, 0.15);\n",
              "    fill: var(--button-hover-fill-color);\n",
              "  }\n",
              "\n",
              "  .colab-df-quickchart-complete:disabled,\n",
              "  .colab-df-quickchart-complete:disabled:hover {\n",
              "    background-color: var(--disabled-bg-color);\n",
              "    fill: var(--disabled-fill-color);\n",
              "    box-shadow: none;\n",
              "  }\n",
              "\n",
              "  .colab-df-spinner {\n",
              "    border: 2px solid var(--fill-color);\n",
              "    border-color: transparent;\n",
              "    border-bottom-color: var(--fill-color);\n",
              "    animation:\n",
              "      spin 1s steps(1) infinite;\n",
              "  }\n",
              "\n",
              "  @keyframes spin {\n",
              "    0% {\n",
              "      border-color: transparent;\n",
              "      border-bottom-color: var(--fill-color);\n",
              "      border-left-color: var(--fill-color);\n",
              "    }\n",
              "    20% {\n",
              "      border-color: transparent;\n",
              "      border-left-color: var(--fill-color);\n",
              "      border-top-color: var(--fill-color);\n",
              "    }\n",
              "    30% {\n",
              "      border-color: transparent;\n",
              "      border-left-color: var(--fill-color);\n",
              "      border-top-color: var(--fill-color);\n",
              "      border-right-color: var(--fill-color);\n",
              "    }\n",
              "    40% {\n",
              "      border-color: transparent;\n",
              "      border-right-color: var(--fill-color);\n",
              "      border-top-color: var(--fill-color);\n",
              "    }\n",
              "    60% {\n",
              "      border-color: transparent;\n",
              "      border-right-color: var(--fill-color);\n",
              "    }\n",
              "    80% {\n",
              "      border-color: transparent;\n",
              "      border-right-color: var(--fill-color);\n",
              "      border-bottom-color: var(--fill-color);\n",
              "    }\n",
              "    90% {\n",
              "      border-color: transparent;\n",
              "      border-bottom-color: var(--fill-color);\n",
              "    }\n",
              "  }\n",
              "</style>\n",
              "\n",
              "  <script>\n",
              "    async function quickchart(key) {\n",
              "      const quickchartButtonEl =\n",
              "        document.querySelector('#' + key + ' button');\n",
              "      quickchartButtonEl.disabled = true;  // To prevent multiple clicks.\n",
              "      quickchartButtonEl.classList.add('colab-df-spinner');\n",
              "      try {\n",
              "        const charts = await google.colab.kernel.invokeFunction(\n",
              "            'suggestCharts', [key], {});\n",
              "      } catch (error) {\n",
              "        console.error('Error during call to suggestCharts:', error);\n",
              "      }\n",
              "      quickchartButtonEl.classList.remove('colab-df-spinner');\n",
              "      quickchartButtonEl.classList.add('colab-df-quickchart-complete');\n",
              "    }\n",
              "    (() => {\n",
              "      let quickchartButtonEl =\n",
              "        document.querySelector('#df-2484a0d7-79ac-489a-b0a9-5db7f7ef344c button');\n",
              "      quickchartButtonEl.style.display =\n",
              "        google.colab.kernel.accessAllowed ? 'block' : 'none';\n",
              "    })();\n",
              "  </script>\n",
              "</div>\n",
              "    </div>\n",
              "  </div>\n"
            ]
          },
          "metadata": {},
          "execution_count": 5
        }
      ]
    },
    {
      "cell_type": "markdown",
      "source": [
        "Within the dataset above, here are what the numerical values mean\n",
        "* **Gender**: 0 = Male, 1 = Female\n",
        "* **Playing Hours**: How many hours are spent playing games\n",
        "* **Productive Time**: How many hours are spent being productive\n",
        "* **Feel After**: 1 = Good, 2 = Tired, 3= Unmotivated\n",
        "* **Mental Harm**: 0 = No, 1 = Yes"
      ],
      "metadata": {
        "id": "3MtfV4tmcVMe"
      }
    },
    {
      "cell_type": "markdown",
      "source": [
        "# Univariate Analysis for Age"
      ],
      "metadata": {
        "id": "i4A75EBPb5Cj"
      }
    },
    {
      "cell_type": "code",
      "source": [
        "mean = np.mean(df['Age'])\n",
        "\n",
        "median = np.median(df['Age'])\n",
        "\n",
        "mode = df['Age'].mode().values[0]\n",
        "\n",
        "data_min = df['Age'].min()\n",
        "data_max = df['Age'].max()\n",
        "data_range = data_max - data_min\n",
        "\n",
        "variance = np.var(df['Age'])\n",
        "\n",
        "std_deviation = np.std(df['Age'])\n",
        "\n",
        "q75 = df['Age'].quantile(0.75)\n",
        "q25 = df['Age'].quantile(0.25)\n",
        "iqr = q75 - q25"
      ],
      "metadata": {
        "id": "dKQNVHNYiy2W"
      },
      "execution_count": null,
      "outputs": []
    },
    {
      "cell_type": "code",
      "source": [
        "print(f\"Mean: {mean}\")\n",
        "print(f\"Median: {median}\")\n",
        "print(f\"Mode: {mode}\")\n",
        "print(f\"Range: {range_value}\")\n",
        "print(f\"Variance: {variance}\")\n",
        "print(f\"Standard Deviation: {std_deviation}\")\n",
        "print(f\"IQR: {iqr}\")"
      ],
      "metadata": {
        "colab": {
          "base_uri": "https://localhost:8080/"
        },
        "id": "xj29qVzifS5I",
        "outputId": "1b2c304f-6294-47de-e79f-adcdf26f26f7"
      },
      "execution_count": null,
      "outputs": [
        {
          "output_type": "stream",
          "name": "stdout",
          "text": [
            "Mean: 18.627659574468087\n",
            "Median: 17.0\n",
            "Mode: 15\n",
            "Range: 18\n",
            "Variance: 31.53157537347215\n",
            "Standard Deviation: 5.615298333434489\n",
            "IQR: 8.0\n"
          ]
        }
      ]
    },
    {
      "cell_type": "markdown",
      "source": [
        "* Mean: 18.627659574468087\n",
        "* Median: 17.0\n",
        "* Mode: 15\n",
        "* Range: 18\n",
        "* Variance: 31.53157537347215\n",
        "* Standard Deviation: 5.615298333434489\n",
        "* IQR: 8.0"
      ],
      "metadata": {
        "id": "m2CR0IwJi_1V"
      }
    },
    {
      "cell_type": "markdown",
      "source": [
        "# Univariate Analysis for Gender"
      ],
      "metadata": {
        "id": "LkTkQVG5fbFa"
      }
    },
    {
      "cell_type": "code",
      "source": [
        "mean = np.mean(df['Gender'])\n",
        "\n",
        "median = np.median(df['Gender'])\n",
        "\n",
        "mode = df['Gender'].mode().values[0]\n",
        "\n",
        "data_min = df['Gender'].min()\n",
        "data_max = df['Gender'].max()\n",
        "data_range = data_max - data_min\n",
        "\n",
        "variance = np.var(df['Gender'])\n",
        "\n",
        "std_deviation = np.std(df['Gender'])\n",
        "\n",
        "q75 = df['Gender'].quantile(0.75)\n",
        "q25 = df['Gender'].quantile(0.25)\n",
        "iqr = q75 - q25"
      ],
      "metadata": {
        "id": "cYKSv8Q6fpFz"
      },
      "execution_count": null,
      "outputs": []
    },
    {
      "cell_type": "code",
      "source": [
        "print(f\"Mean: {mean}\")\n",
        "print(f\"Median: {median}\")\n",
        "print(f\"Mode: {mode}\")\n",
        "print(f\"Range: {range_value}\")\n",
        "print(f\"Variance: {variance}\")\n",
        "print(f\"Standard Deviation: {std_deviation}\")\n",
        "print(f\"IQR: {iqr}\")"
      ],
      "metadata": {
        "colab": {
          "base_uri": "https://localhost:8080/"
        },
        "id": "P3WR-trqhZvL",
        "outputId": "ef681954-98b3-486a-897d-ae8b3638ba95"
      },
      "execution_count": null,
      "outputs": [
        {
          "output_type": "stream",
          "name": "stdout",
          "text": [
            "Mean: 0.3617021276595745\n",
            "Median: 0.0\n",
            "Mode: 0\n",
            "Range: 18\n",
            "Variance: 0.23087369850611145\n",
            "Standard Deviation: 0.4804931825802646\n",
            "IQR: 1.0\n"
          ]
        }
      ]
    },
    {
      "cell_type": "markdown",
      "source": [
        "**For Gender: 0 = Male, 1 = Female**\n",
        "* Mean: 0.3617021276595745\n",
        "* Median: 0.0\n",
        "* Mode: 0\n",
        "* Range: 18\n",
        "* Variance: 0.23087369850611145\n",
        "* Standard Deviation: 0.4804931825802646\n",
        "* IQR: 1.0"
      ],
      "metadata": {
        "id": "60-VEGzmjK3h"
      }
    },
    {
      "cell_type": "markdown",
      "source": [
        "# Univariate Analysis for Playing Hours"
      ],
      "metadata": {
        "id": "Q3nteqKEhrFB"
      }
    },
    {
      "cell_type": "code",
      "source": [
        "mean = np.mean(df['Playing Hours'])\n",
        "\n",
        "median = np.median(df['Playing Hours'])\n",
        "\n",
        "mode = df['Playing Hours'].mode().values[0]\n",
        "\n",
        "data_min = df['Playing Hours'].min()\n",
        "data_max = df['Playing Hours'].max()\n",
        "data_range = data_max - data_min\n",
        "\n",
        "variance = np.var(df['Playing Hours'])\n",
        "\n",
        "std_deviation = np.std(df['Playing Hours'])\n",
        "\n",
        "q75 = df['Playing Hours'].quantile(0.75)\n",
        "q25 = df['Playing Hours'].quantile(0.25)\n",
        "iqr = q75 - q25"
      ],
      "metadata": {
        "id": "e7dMRuq6hx6e"
      },
      "execution_count": null,
      "outputs": []
    },
    {
      "cell_type": "code",
      "source": [
        "print(f\"Mean: {mean}\")\n",
        "print(f\"Median: {median}\")\n",
        "print(f\"Mode: {mode}\")\n",
        "print(f\"Range: {range_value}\")\n",
        "print(f\"Variance: {variance}\")\n",
        "print(f\"Standard Deviation: {std_deviation}\")\n",
        "print(f\"IQR: {iqr}\")"
      ],
      "metadata": {
        "colab": {
          "base_uri": "https://localhost:8080/"
        },
        "id": "gG7zYeHAikSH",
        "outputId": "f3e40237-41d1-4660-bf29-64cbcf12684a"
      },
      "execution_count": null,
      "outputs": [
        {
          "output_type": "stream",
          "name": "stdout",
          "text": [
            "Mean: 2.351063829787234\n",
            "Median: 3.0\n",
            "Mode: 3\n",
            "Range: 18\n",
            "Variance: 1.3342009959257581\n",
            "Standard Deviation: 1.1550761861997494\n",
            "IQR: 2.0\n"
          ]
        }
      ]
    },
    {
      "cell_type": "markdown",
      "source": [
        "* Mean: 2.351063829787234\n",
        "* Median: 3.0\n",
        "* Mode: 3\n",
        "* Range: 18\n",
        "* Variance: 1.3342009959257581\n",
        "* Standard Deviation: 1.1550761861997494\n",
        "* IQR: 2.0"
      ],
      "metadata": {
        "id": "vZQlQs3zjT0r"
      }
    },
    {
      "cell_type": "markdown",
      "source": [
        "# Univariate Analysis for Productive Time"
      ],
      "metadata": {
        "id": "RqEQZBfWhyNO"
      }
    },
    {
      "cell_type": "code",
      "source": [
        "mean = np.mean(df['Productive Time'])\n",
        "\n",
        "median = np.median(df['Productive Time'])\n",
        "\n",
        "mode = df['Productive Time'].mode().values[0]\n",
        "\n",
        "data_min = df['Productive Time'].min()\n",
        "data_max = df['Productive Time'].max()\n",
        "data_range = data_max - data_min\n",
        "\n",
        "variance = np.var(df['Productive Time'])\n",
        "\n",
        "std_deviation = np.std(df['Productive Time'])\n",
        "\n",
        "q75 = df['Productive Time'].quantile(0.75)\n",
        "q25 = df['Productive Time'].quantile(0.25)\n",
        "iqr = q75 - q25"
      ],
      "metadata": {
        "id": "lnn5rJ46h1Du"
      },
      "execution_count": null,
      "outputs": []
    },
    {
      "cell_type": "code",
      "source": [
        "print(f\"Mean: {mean}\")\n",
        "print(f\"Median: {median}\")\n",
        "print(f\"Mode: {mode}\")\n",
        "print(f\"Range: {range_value}\")\n",
        "print(f\"Variance: {variance}\")\n",
        "print(f\"Standard Deviation: {std_deviation}\")\n",
        "print(f\"IQR: {iqr}\")"
      ],
      "metadata": {
        "colab": {
          "base_uri": "https://localhost:8080/"
        },
        "id": "cqq4arBUjaoY",
        "outputId": "f8114a4a-0981-4ff1-f52f-e8dca200fdf6"
      },
      "execution_count": null,
      "outputs": [
        {
          "output_type": "stream",
          "name": "stdout",
          "text": [
            "Mean: 1.8829787234042554\n",
            "Median: 2.0\n",
            "Mode: 2\n",
            "Range: 18\n",
            "Variance: 0.4863060208239021\n",
            "Standard Deviation: 0.6973564517690376\n",
            "IQR: 0.0\n"
          ]
        }
      ]
    },
    {
      "cell_type": "markdown",
      "source": [
        "* Mean: 1.8829787234042554\n",
        "* Median: 2.0\n",
        "* Mode: 2\n",
        "* Range: 18\n",
        "* Variance: 0.4863060208239021\n",
        "* Standard Deviation: 0.6973564517690376\n",
        "* IQR: 0.0"
      ],
      "metadata": {
        "id": "iL4nFj1yjdIO"
      }
    },
    {
      "cell_type": "markdown",
      "source": [
        "# Univariate Analysis for Feel After"
      ],
      "metadata": {
        "id": "4gKroxz5h1MP"
      }
    },
    {
      "cell_type": "code",
      "source": [
        "mean = np.mean(df['Feel After'])\n",
        "\n",
        "median = np.median(df['Feel After'])\n",
        "\n",
        "mode = df['Feel After'].mode().values[0]\n",
        "\n",
        "data_min = df['Feel After'].min()\n",
        "data_max = df['Feel After'].max()\n",
        "data_range = data_max - data_min\n",
        "\n",
        "variance = np.var(df['Feel After'])\n",
        "\n",
        "std_deviation = np.std(df['Feel After'])\n",
        "\n",
        "q75 = df['Feel After'].quantile(0.75)\n",
        "q25 = df['Feel After'].quantile(0.25)\n",
        "iqr = q75 - q25"
      ],
      "metadata": {
        "id": "MvfArXveh3u6"
      },
      "execution_count": null,
      "outputs": []
    },
    {
      "cell_type": "code",
      "source": [
        "print(f\"Mean: {mean}\")\n",
        "print(f\"Median: {median}\")\n",
        "print(f\"Mode: {mode}\")\n",
        "print(f\"Range: {range_value}\")\n",
        "print(f\"Variance: {variance}\")\n",
        "print(f\"Standard Deviation: {std_deviation}\")\n",
        "print(f\"IQR: {iqr}\")"
      ],
      "metadata": {
        "colab": {
          "base_uri": "https://localhost:8080/"
        },
        "id": "JniNdzgFjjgC",
        "outputId": "05651120-6ffa-4e8b-feb6-8da8ed22c727"
      },
      "execution_count": null,
      "outputs": [
        {
          "output_type": "stream",
          "name": "stdout",
          "text": [
            "Mean: 2.265957446808511\n",
            "Median: 3.0\n",
            "Mode: 3\n",
            "Range: 18\n",
            "Variance: 0.7484155726573113\n",
            "Standard Deviation: 0.865110150591999\n",
            "IQR: 2.0\n"
          ]
        }
      ]
    },
    {
      "cell_type": "markdown",
      "source": [
        "**For \"Feel After\": 1 = Good, 2 = Tired, 3= Unmotivated**\n",
        "* Mean: 2.265957446808511\n",
        "* Median: 3.0\n",
        "* Mode: 3\n",
        "* Range: 18\n",
        "* Variance: 0.7484155726573113\n",
        "* Standard Deviation: 0.865110150591999\n",
        "* IQR: 2.0"
      ],
      "metadata": {
        "id": "4B0SUDQfjkyi"
      }
    },
    {
      "cell_type": "markdown",
      "source": [
        "# Univariate Analysis for Mental Harm"
      ],
      "metadata": {
        "id": "y1paNgJyh34v"
      }
    },
    {
      "cell_type": "code",
      "source": [
        "mean = np.mean(df['Mental Harm'])\n",
        "\n",
        "median = np.median(df['Mental Harm'])\n",
        "\n",
        "mode = df['Mental Harm'].mode().values[0]\n",
        "\n",
        "data_min = df['Mental Harm'].min()\n",
        "data_max = df['Mental Harm'].max()\n",
        "data_range = data_max - data_min\n",
        "\n",
        "variance = np.var(df['Mental Harm'])\n",
        "\n",
        "std_deviation = np.std(df['Mental Harm'])\n",
        "\n",
        "q75 = df['Mental Harm'].quantile(0.75)\n",
        "q25 = df['Mental Harm'].quantile(0.25)\n",
        "iqr = q75 - q25"
      ],
      "metadata": {
        "id": "9hBvLZ0Eh6f_"
      },
      "execution_count": null,
      "outputs": []
    },
    {
      "cell_type": "code",
      "source": [
        "print(f\"Mean: {mean}\")\n",
        "print(f\"Median: {median}\")\n",
        "print(f\"Mode: {mode}\")\n",
        "print(f\"Range: {range_value}\")\n",
        "print(f\"Variance: {variance}\")\n",
        "print(f\"Standard Deviation: {std_deviation}\")\n",
        "print(f\"IQR: {iqr}\")"
      ],
      "metadata": {
        "colab": {
          "base_uri": "https://localhost:8080/"
        },
        "id": "HPxKnirCjkGe",
        "outputId": "5b10a934-cbda-4471-8987-8b6396a92340"
      },
      "execution_count": null,
      "outputs": [
        {
          "output_type": "stream",
          "name": "stdout",
          "text": [
            "Mean: 2.265957446808511\n",
            "Median: 3.0\n",
            "Mode: 3\n",
            "Range: 18\n",
            "Variance: 0.7484155726573113\n",
            "Standard Deviation: 0.865110150591999\n",
            "IQR: 2.0\n"
          ]
        }
      ]
    },
    {
      "cell_type": "markdown",
      "source": [
        "**For \"Mental Harm\": 0 = No, 1 = Yes**\n",
        "* Mean: 2.265957446808511\n",
        "* Median: 3.0\n",
        "* Mode: 3\n",
        "* Range: 18\n",
        "* Variance: 0.7484155726573113\n",
        "* Standard Deviation: 0.865110150591999\n",
        "* IQR: 2.0"
      ],
      "metadata": {
        "id": "USeWKTO4jv1r"
      }
    },
    {
      "cell_type": "markdown",
      "source": [
        "# Histogram"
      ],
      "metadata": {
        "id": "Sz0dTK5Klk1-"
      }
    },
    {
      "cell_type": "code",
      "source": [
        "plt.figure(figsize=(8, 6))\n",
        "plt.hist(df['Age'], bins=20, edgecolor='k')\n",
        "plt.xlabel('Age')\n",
        "plt.ylabel('Frequency')\n",
        "plt.title('Histogram of Age')\n",
        "plt.grid()\n",
        "plt.show()"
      ],
      "metadata": {
        "colab": {
          "base_uri": "https://localhost:8080/",
          "height": 564
        },
        "id": "mm19G1dRl07B",
        "outputId": "fb98c94f-2fe0-45a0-fa9d-8d426651e2d3"
      },
      "execution_count": null,
      "outputs": [
        {
          "output_type": "display_data",
          "data": {
            "text/plain": [
              "<Figure size 800x600 with 1 Axes>"
            ],
            "image/png": "[encoded data removed]"
          },
          "metadata": {}
        }
      ]
    },
    {
      "cell_type": "code",
      "source": [
        "plt.figure(figsize=(8, 6))\n",
        "plt.hist(df['Gender'], bins=20, edgecolor='k', alpha=1)\n",
        "plt.xlabel('Gender')\n",
        "plt.ylabel('Frequency')\n",
        "plt.title('Histogram of Gender')\n",
        "plt.grid()\n",
        "plt.show()"
      ],
      "metadata": {
        "colab": {
          "base_uri": "https://localhost:8080/",
          "height": 564
        },
        "id": "dQEXa6RqmLh1",
        "outputId": "a536f5ed-4c8f-4132-ec72-89ae0298705c"
      },
      "execution_count": null,
      "outputs": [
        {
          "output_type": "display_data",
          "data": {
            "text/plain": [
              "<Figure size 800x600 with 1 Axes>"
            ],
            "image/png": "[encoded data removed]"
          },
          "metadata": {}
        }
      ]
    },
    {
      "cell_type": "code",
      "source": [
        "plt.figure(figsize=(8, 6))\n",
        "plt.hist(df['Playing Hours'], bins=20, edgecolor='k')\n",
        "plt.xlabel('Playing Hours')\n",
        "plt.ylabel('Frequency')\n",
        "plt.title('Histogram of Playing Hours')\n",
        "plt.grid()\n",
        "plt.show()"
      ],
      "metadata": {
        "colab": {
          "base_uri": "https://localhost:8080/",
          "height": 564
        },
        "id": "T1iqlp75mWM7",
        "outputId": "d9c32e51-9600-4b7b-81c9-ebb0fc33da36"
      },
      "execution_count": null,
      "outputs": [
        {
          "output_type": "display_data",
          "data": {
            "text/plain": [
              "<Figure size 800x600 with 1 Axes>"
            ],
            "image/png": "[encoded data removed]"
          },
          "metadata": {}
        }
      ]
    },
    {
      "cell_type": "code",
      "source": [
        "plt.figure(figsize=(8, 6))\n",
        "plt.hist(df['Productive Time'], bins=20, edgecolor='k')\n",
        "plt.xlabel('Productive Time')\n",
        "plt.ylabel('Frequency')\n",
        "plt.title('Histogram of Productive Time')\n",
        "plt.grid()\n",
        "plt.show()"
      ],
      "metadata": {
        "colab": {
          "base_uri": "https://localhost:8080/",
          "height": 564
        },
        "id": "mXe4twazm02y",
        "outputId": "d6a7669b-8f36-422e-ebc3-40be57a7fbc9"
      },
      "execution_count": null,
      "outputs": [
        {
          "output_type": "display_data",
          "data": {
            "text/plain": [
              "<Figure size 800x600 with 1 Axes>"
            ],
            "image/png": "[encoded data removed]"
          },
          "metadata": {}
        }
      ]
    },
    {
      "cell_type": "code",
      "source": [
        "plt.figure(figsize=(8, 6))\n",
        "plt.hist(df['Feel After'], bins=20, edgecolor='k')\n",
        "plt.xlabel('Feel After')\n",
        "plt.ylabel('Frequency')\n",
        "plt.title('Histogram of Feel After')\n",
        "plt.grid()\n",
        "plt.show()"
      ],
      "metadata": {
        "colab": {
          "base_uri": "https://localhost:8080/",
          "height": 564
        },
        "id": "UI0lr6AnnATG",
        "outputId": "433e0c16-1e18-4f68-c462-216e8eae0b3c"
      },
      "execution_count": null,
      "outputs": [
        {
          "output_type": "display_data",
          "data": {
            "text/plain": [
              "<Figure size 800x600 with 1 Axes>"
            ],
            "image/png": "[encoded data removed]"
          },
          "metadata": {}
        }
      ]
    },
    {
      "cell_type": "code",
      "source": [
        "plt.figure(figsize=(8, 6))\n",
        "plt.hist(df['Mental Harm'], bins=20, edgecolor='k')\n",
        "plt.xlabel('Mental Harm')\n",
        "plt.ylabel('Frequency')\n",
        "plt.title('Histogram of Mental Harm')\n",
        "plt.grid()\n",
        "plt.show()"
      ],
      "metadata": {
        "colab": {
          "base_uri": "https://localhost:8080/",
          "height": 564
        },
        "id": "GTy3EX71nHdx",
        "outputId": "aaf9a576-ccf8-46d4-e9b3-944f67f399e5"
      },
      "execution_count": null,
      "outputs": [
        {
          "output_type": "display_data",
          "data": {
            "text/plain": [
              "<Figure size 800x600 with 1 Axes>"
            ],
            "image/png": "[encoded data removed]"
          },
          "metadata": {}
        }
      ]
    },
    {
      "cell_type": "markdown",
      "source": [
        "# Bivariate Analysis\n",
        "* Looking at the relationship between Age and Playing Hours + Playing Hours and Productive Time"
      ],
      "metadata": {
        "id": "fA-UiKMRnlfj"
      }
    },
    {
      "cell_type": "code",
      "source": [
        "plt.figure(figsize=(8, 6))\n",
        "sns.scatterplot(data=df, x='Age', y='Playing Hours')\n",
        "plt.title('Age VS. Playing Hours')\n",
        "plt.xlabel('Age')\n",
        "plt.ylabel('Playing Hours')\n",
        "plt.show()"
      ],
      "metadata": {
        "colab": {
          "base_uri": "https://localhost:8080/",
          "height": 564
        },
        "id": "E5Ycn3uOn3xN",
        "outputId": "0399dd36-0034-4d4a-f030-5764ab076112"
      },
      "execution_count": null,
      "outputs": [
        {
          "output_type": "display_data",
          "data": {
            "text/plain": [
              "<Figure size 800x600 with 1 Axes>"
            ],
            "image/png": "[encoded data removed]"
          },
          "metadata": {}
        }
      ]
    },
    {
      "cell_type": "code",
      "source": [
        "plt.figure(figsize=(8, 6))\n",
        "sns.scatterplot(data=df, x='Playing Hours', y='Productive Time')\n",
        "plt.title('Playing Hours VS. Productive Time')\n",
        "plt.xlabel('Playing Hours')\n",
        "plt.ylabel('Productive Time')\n",
        "plt.show()"
      ],
      "metadata": {
        "colab": {
          "base_uri": "https://localhost:8080/",
          "height": 564
        },
        "id": "c__M37k4oq8G",
        "outputId": "7b52f04c-b01d-49db-cdc3-54eba828bb79"
      },
      "execution_count": null,
      "outputs": [
        {
          "output_type": "display_data",
          "data": {
            "text/plain": [
              "<Figure size 800x600 with 1 Axes>"
            ],
            "image/png": "[encoded data removed]"
          },
          "metadata": {}
        }
      ]
    },
    {
      "cell_type": "code",
      "source": [
        "# Compute correlation coefficients for numerical variables\n",
        "pearson_corr = pearsonr(df[\"Playing Hours\"], df[\"Productive Time\"])\n",
        "print(f\"Pearson Correlation Coefficient: {pearson_corr}\")"
      ],
      "metadata": {
        "colab": {
          "base_uri": "https://localhost:8080/"
        },
        "id": "JzBRI7RXpAvs",
        "outputId": "258da751-4571-4d5e-cf19-717d10925fbb"
      },
      "execution_count": null,
      "outputs": [
        {
          "output_type": "stream",
          "name": "stdout",
          "text": [
            "Pearson Correlation Coefficient: PearsonRResult(statistic=-0.001826510577578766, pvalue=0.9860602716880564)\n"
          ]
        }
      ]
    },
    {
      "cell_type": "markdown",
      "source": [
        "Pearson Correlation Coefficient\n",
        "* PearsonRResult statistic=-0.0018265\n",
        "* P value=0.9860602716880564\n",
        "\n",
        "\n",
        "The Pearson correlation coefficient (r) measures the strength and direction of the linear relationship between two variables. Here the Pearson correlation coefficient is approximately -0.0018. Since the value is close to zero, it indicates a very weak linear relationship between the\"Playing Hours\" and \"Productive Time\" variables."
      ],
      "metadata": {
        "id": "kpg5i9nrqKd8"
      }
    },
    {
      "cell_type": "code",
      "source": [
        "pearson_corr = pearsonr(df[\"Age\"], df[\"Playing Hours\"])\n",
        "print(f\"Pearson Correlation Coefficient: {pearson_corr}\")"
      ],
      "metadata": {
        "colab": {
          "base_uri": "https://localhost:8080/"
        },
        "id": "9Gf8wTjSqpFl",
        "outputId": "56aabd68-b8ee-4278-c4e9-c546c62c9614"
      },
      "execution_count": null,
      "outputs": [
        {
          "output_type": "stream",
          "name": "stdout",
          "text": [
            "Pearson Correlation Coefficient: PearsonRResult(statistic=-0.24391411478562602, pvalue=0.01783170178670489)\n"
          ]
        }
      ]
    },
    {
      "cell_type": "markdown",
      "source": [
        "Pearson Correlation Coefficient\n",
        "* PearsonRResult statistic=-0.24391\n",
        "* P value=0.01783170178670489\n",
        "\n",
        "\n",
        "The Pearson correlation coefficient (r) measures the strength and direction of the linear relationship between two variables. Here the Pearson correlation coefficient is approximately -0.2439. Since the value is close to zero, it indicates a very weak linear relationship between the \"Age\" and \"Playing Hours\" variables."
      ],
      "metadata": {
        "id": "0p4KsRu1qyGa"
      }
    },
    {
      "cell_type": "markdown",
      "source": [
        "# Handling Outliers"
      ],
      "metadata": {
        "id": "s99M0DH2rB_l"
      }
    },
    {
      "cell_type": "code",
      "source": [
        "Q1 = df['Age'].quantile(0.25)\n",
        "Q3 = df['Age'].quantile(0.75)\n",
        "IQR = Q3 - Q1\n",
        "\n",
        "lower_bound = Q1 - 1.5 * IQR\n",
        "upper_bound = Q3 + 1.5 * IQR\n",
        "\n",
        "outliers = df[(df['Age'] < lower_bound) | (df['Age'] > upper_bound)]\n",
        "\n",
        "print(\"Outliers:\")\n",
        "print(outliers)"
      ],
      "metadata": {
        "colab": {
          "base_uri": "https://localhost:8080/"
        },
        "id": "uLsmY5nvrHmx",
        "outputId": "3c5d90c2-6a99-4ca9-ce3b-277704527cfc"
      },
      "execution_count": null,
      "outputs": [
        {
          "output_type": "stream",
          "name": "stdout",
          "text": [
            "Outliers:\n",
            "Empty DataFrame\n",
            "Columns: [Sl. 0., Age, Gender, Playing Hours, Productive Time, Feel After, Mental Harm]\n",
            "Index: []\n"
          ]
        }
      ]
    },
    {
      "cell_type": "code",
      "source": [
        "Q1 = df['Gender'].quantile(0.25)\n",
        "Q3 = df['Gender'].quantile(0.75)\n",
        "IQR = Q3 - Q1\n",
        "\n",
        "lower_bound = Q1 - 1.5 * IQR\n",
        "upper_bound = Q3 + 1.5 * IQR\n",
        "\n",
        "outliers = df[(df['Gender'] < lower_bound) | (df['Gender'] > upper_bound)]\n",
        "\n",
        "print(\"Outliers:\")\n",
        "print(outliers)"
      ],
      "metadata": {
        "colab": {
          "base_uri": "https://localhost:8080/"
        },
        "id": "LZwRKAoHtwgR",
        "outputId": "2d48522c-84d5-4a9d-fc12-7ef864d4e085"
      },
      "execution_count": null,
      "outputs": [
        {
          "output_type": "stream",
          "name": "stdout",
          "text": [
            "Outliers:\n",
            "Empty DataFrame\n",
            "Columns: [Sl. 0., Age, Gender, Playing Hours, Productive Time, Feel After, Mental Harm]\n",
            "Index: []\n"
          ]
        }
      ]
    },
    {
      "cell_type": "code",
      "source": [
        "Q1 = df['Playing Hours'].quantile(0.25)\n",
        "Q3 = df['Playing Hours'].quantile(0.75)\n",
        "IQR = Q3 - Q1\n",
        "\n",
        "lower_bound = Q1 - 1.5 * IQR\n",
        "upper_bound = Q3 + 1.5 * IQR\n",
        "\n",
        "outliers = df[(df['Playing Hours'] < lower_bound) | (df['Playing Hours'] > upper_bound)]\n",
        "\n",
        "print(\"Outliers:\")\n",
        "print(outliers)"
      ],
      "metadata": {
        "colab": {
          "base_uri": "https://localhost:8080/"
        },
        "id": "Rv3unC72t13D",
        "outputId": "4c25bd78-ce44-4214-eb71-ce9166573fcd"
      },
      "execution_count": null,
      "outputs": [
        {
          "output_type": "stream",
          "name": "stdout",
          "text": [
            "Outliers:\n",
            "Empty DataFrame\n",
            "Columns: [Sl. 0., Age, Gender, Playing Hours, Productive Time, Feel After, Mental Harm]\n",
            "Index: []\n"
          ]
        }
      ]
    },
    {
      "cell_type": "code",
      "source": [
        "Q1 = df['Productive Time'].quantile(0.25)\n",
        "Q3 = df['Productive Time'].quantile(0.75)\n",
        "IQR = Q3 - Q1\n",
        "\n",
        "lower_bound = Q1 - 1.5 * IQR\n",
        "upper_bound = Q3 + 1.5 * IQR\n",
        "\n",
        "outliers = df[(df['Productive Time'] < lower_bound) | (df['Productive Time'] > upper_bound)]\n",
        "\n",
        "print(\"Outliers:\")\n",
        "print(outliers)"
      ],
      "metadata": {
        "colab": {
          "base_uri": "https://localhost:8080/"
        },
        "id": "PN7Z2faIt7ks",
        "outputId": "c67f7b7a-014b-481c-c7b5-ec7883107985"
      },
      "execution_count": null,
      "outputs": [
        {
          "output_type": "stream",
          "name": "stdout",
          "text": [
            "Outliers:\n",
            "    Sl. 0.  Age  Gender  Playing Hours  Productive Time  Feel After  \\\n",
            "0        1   11       0              2                3           1   \n",
            "1        2   15       0              1                1           2   \n",
            "2        3   16       0              3                1           3   \n",
            "4        5   14       0              2                3           1   \n",
            "5        6   18       1              2                4           1   \n",
            "6        7   28       1              1                1           1   \n",
            "9       10   21       1              3                0           3   \n",
            "10      11   17       1              1                1           2   \n",
            "14      15   28       0              1                1           1   \n",
            "23      24   28       0              1                1           1   \n",
            "25      26   11       1              1                3           1   \n",
            "28      29   27       1              1                1           2   \n",
            "32      33   28       0              1                1           1   \n",
            "44      45   11       0              4                1           3   \n",
            "54      55   15       1              1                4           1   \n",
            "55      56   11       1              2                3           1   \n",
            "56      57   15       0              1                1           2   \n",
            "57      58   16       1              3                1           3   \n",
            "59      60   14       0              2                3           1   \n",
            "60      61   18       0              2                4           1   \n",
            "61      62   28       0              1                1           1   \n",
            "64      65   21       1              3                0           3   \n",
            "65      66   17       0              1                1           2   \n",
            "69      70   28       0              1                1           1   \n",
            "78      79   28       0              1                1           1   \n",
            "80      81   11       1              1                3           1   \n",
            "83      84   27       1              1                1           2   \n",
            "87      88   28       0              1                1           1   \n",
            "93      94   20       0              5                0           3   \n",
            "\n",
            "    Mental Harm  \n",
            "0             0  \n",
            "1             0  \n",
            "2             1  \n",
            "4             0  \n",
            "5             0  \n",
            "6             0  \n",
            "9             1  \n",
            "10            0  \n",
            "14            0  \n",
            "23            0  \n",
            "25            0  \n",
            "28            0  \n",
            "32            0  \n",
            "44            1  \n",
            "54            0  \n",
            "55            0  \n",
            "56            0  \n",
            "57            1  \n",
            "59            0  \n",
            "60            0  \n",
            "61            0  \n",
            "64            1  \n",
            "65            0  \n",
            "69            0  \n",
            "78            0  \n",
            "80            0  \n",
            "83            0  \n",
            "87            0  \n",
            "93            1  \n"
          ]
        }
      ]
    },
    {
      "cell_type": "code",
      "source": [
        "Q1 = df['Feel After'].quantile(0.25)\n",
        "Q3 = df['Feel After'].quantile(0.75)\n",
        "IQR = Q3 - Q1\n",
        "\n",
        "lower_bound = Q1 - 1.5 * IQR\n",
        "upper_bound = Q3 + 1.5 * IQR\n",
        "\n",
        "outliers = df[(df['Feel After'] < lower_bound) | (df['Feel After'] > upper_bound)]\n",
        "\n",
        "print(\"Outliers:\")\n",
        "print(outliers)"
      ],
      "metadata": {
        "colab": {
          "base_uri": "https://localhost:8080/"
        },
        "id": "Cd-waVh7uRX3",
        "outputId": "3a4354a9-ed30-4ef9-aec1-d8b5eabbcfc5"
      },
      "execution_count": null,
      "outputs": [
        {
          "output_type": "stream",
          "name": "stdout",
          "text": [
            "Outliers:\n",
            "Empty DataFrame\n",
            "Columns: [Sl. 0., Age, Gender, Playing Hours, Productive Time, Feel After, Mental Harm]\n",
            "Index: []\n"
          ]
        }
      ]
    },
    {
      "cell_type": "code",
      "source": [
        "Q1 = df['Mental Harm'].quantile(0.25)\n",
        "Q3 = df['Mental Harm'].quantile(0.75)\n",
        "IQR = Q3 - Q1\n",
        "\n",
        "lower_bound = Q1 - 1.5 * IQR\n",
        "upper_bound = Q3 + 1.5 * IQR\n",
        "\n",
        "outliers = df[(df['Mental Harm'] < lower_bound) | (df['Mental Harm'] > upper_bound)]\n",
        "\n",
        "print(\"Outliers:\")\n",
        "print(outliers)"
      ],
      "metadata": {
        "colab": {
          "base_uri": "https://localhost:8080/"
        },
        "id": "73YdO9vCua7j",
        "outputId": "e9f12170-bbaf-44b7-eee9-fedb2c0318f6"
      },
      "execution_count": null,
      "outputs": [
        {
          "output_type": "stream",
          "name": "stdout",
          "text": [
            "Outliers:\n",
            "Empty DataFrame\n",
            "Columns: [Sl. 0., Age, Gender, Playing Hours, Productive Time, Feel After, Mental Harm]\n",
            "Index: []\n"
          ]
        }
      ]
    },
    {
      "cell_type": "markdown",
      "source": [
        "There were no outliers for any of my variables except for \"Productive Time\". I chose to ignore this as it is possible to have a range of productive time, from 0 to any number as long as it fits within the hours of the day."
      ],
      "metadata": {
        "id": "JENDOLPluhNS"
      }
    },
    {
      "cell_type": "markdown",
      "source": [
        "# Automated Analysis"
      ],
      "metadata": {
        "id": "odSjlxz6u2e6"
      }
    }
  ]
}